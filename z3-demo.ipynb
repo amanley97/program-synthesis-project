{
 "cells": [
  {
   "cell_type": "code",
   "execution_count": 1,
   "id": "7c85bf19",
   "metadata": {},
   "outputs": [],
   "source": [
    "from z3 import *"
   ]
  },
  {
   "cell_type": "code",
   "execution_count": 4,
   "id": "9ec04ee3",
   "metadata": {},
   "outputs": [
    {
     "ename": "OSError",
     "evalue": "exception: access violation reading 0x0000000000000000",
     "output_type": "error",
     "traceback": [
      "\u001b[1;31m---------------------------------------------------------------------------\u001b[0m",
      "\u001b[1;31mOSError\u001b[0m                                   Traceback (most recent call last)",
      "Input \u001b[1;32mIn [4]\u001b[0m, in \u001b[0;36m<cell line: 1>\u001b[1;34m()\u001b[0m\n\u001b[1;32m----> 1\u001b[0m x \u001b[38;5;241m=\u001b[39m \u001b[43mReal\u001b[49m\u001b[43m(\u001b[49m\u001b[38;5;124;43m'\u001b[39;49m\u001b[38;5;124;43mx\u001b[39;49m\u001b[38;5;124;43m'\u001b[39;49m\u001b[43m)\u001b[49m\n\u001b[0;32m      2\u001b[0m y \u001b[38;5;241m=\u001b[39m Real(\u001b[38;5;124m'\u001b[39m\u001b[38;5;124my\u001b[39m\u001b[38;5;124m'\u001b[39m)\n\u001b[0;32m      3\u001b[0m s \u001b[38;5;241m=\u001b[39m Solver()\n",
      "File \u001b[1;32m~\\AppData\\Local\\Programs\\Python\\Python310\\lib\\site-packages\\z3\\z3.py:3356\u001b[0m, in \u001b[0;36mReal\u001b[1;34m(name, ctx)\u001b[0m\n\u001b[0;32m   3347\u001b[0m \u001b[38;5;28;01mdef\u001b[39;00m \u001b[38;5;21mReal\u001b[39m(name, ctx\u001b[38;5;241m=\u001b[39m\u001b[38;5;28;01mNone\u001b[39;00m):\n\u001b[0;32m   3348\u001b[0m     \u001b[38;5;124;03m\"\"\"Return a real constant named `name`. If `ctx=None`, then the global context is used.\u001b[39;00m\n\u001b[0;32m   3349\u001b[0m \n\u001b[0;32m   3350\u001b[0m \u001b[38;5;124;03m    >>> x = Real('x')\u001b[39;00m\n\u001b[1;32m   (...)\u001b[0m\n\u001b[0;32m   3354\u001b[0m \u001b[38;5;124;03m    True\u001b[39;00m\n\u001b[0;32m   3355\u001b[0m \u001b[38;5;124;03m    \"\"\"\u001b[39;00m\n\u001b[1;32m-> 3356\u001b[0m     ctx \u001b[38;5;241m=\u001b[39m \u001b[43m_get_ctx\u001b[49m\u001b[43m(\u001b[49m\u001b[43mctx\u001b[49m\u001b[43m)\u001b[49m\n\u001b[0;32m   3357\u001b[0m     \u001b[38;5;28;01mreturn\u001b[39;00m ArithRef(Z3_mk_const(ctx\u001b[38;5;241m.\u001b[39mref(), to_symbol(name, ctx), RealSort(ctx)\u001b[38;5;241m.\u001b[39mast), ctx)\n",
      "File \u001b[1;32m~\\AppData\\Local\\Programs\\Python\\Python310\\lib\\site-packages\\z3\\z3.py:262\u001b[0m, in \u001b[0;36m_get_ctx\u001b[1;34m(ctx)\u001b[0m\n\u001b[0;32m    260\u001b[0m \u001b[38;5;28;01mdef\u001b[39;00m \u001b[38;5;21m_get_ctx\u001b[39m(ctx):\n\u001b[0;32m    261\u001b[0m     \u001b[38;5;28;01mif\u001b[39;00m ctx \u001b[38;5;129;01mis\u001b[39;00m \u001b[38;5;28;01mNone\u001b[39;00m:\n\u001b[1;32m--> 262\u001b[0m         \u001b[38;5;28;01mreturn\u001b[39;00m \u001b[43mmain_ctx\u001b[49m\u001b[43m(\u001b[49m\u001b[43m)\u001b[49m\n\u001b[0;32m    263\u001b[0m     \u001b[38;5;28;01melse\u001b[39;00m:\n\u001b[0;32m    264\u001b[0m         \u001b[38;5;28;01mreturn\u001b[39;00m ctx\n",
      "File \u001b[1;32m~\\AppData\\Local\\Programs\\Python\\Python310\\lib\\site-packages\\z3\\z3.py:256\u001b[0m, in \u001b[0;36mmain_ctx\u001b[1;34m()\u001b[0m\n\u001b[0;32m    254\u001b[0m \u001b[38;5;28;01mglobal\u001b[39;00m _main_ctx\n\u001b[0;32m    255\u001b[0m \u001b[38;5;28;01mif\u001b[39;00m _main_ctx \u001b[38;5;129;01mis\u001b[39;00m \u001b[38;5;28;01mNone\u001b[39;00m:\n\u001b[1;32m--> 256\u001b[0m     _main_ctx \u001b[38;5;241m=\u001b[39m \u001b[43mContext\u001b[49m\u001b[43m(\u001b[49m\u001b[43m)\u001b[49m\n\u001b[0;32m    257\u001b[0m \u001b[38;5;28;01mreturn\u001b[39;00m _main_ctx\n",
      "File \u001b[1;32m~\\AppData\\Local\\Programs\\Python\\Python310\\lib\\site-packages\\z3\\z3.py:195\u001b[0m, in \u001b[0;36mContext.__init__\u001b[1;34m(self, *args, **kws)\u001b[0m\n\u001b[0;32m    193\u001b[0m \u001b[38;5;28;01mif\u001b[39;00m z3_debug():\n\u001b[0;32m    194\u001b[0m     _z3_assert(\u001b[38;5;28mlen\u001b[39m(args) \u001b[38;5;241m%\u001b[39m \u001b[38;5;241m2\u001b[39m \u001b[38;5;241m==\u001b[39m \u001b[38;5;241m0\u001b[39m, \u001b[38;5;124m\"\u001b[39m\u001b[38;5;124mArgument list must have an even number of elements.\u001b[39m\u001b[38;5;124m\"\u001b[39m)\n\u001b[1;32m--> 195\u001b[0m conf \u001b[38;5;241m=\u001b[39m \u001b[43mZ3_mk_config\u001b[49m\u001b[43m(\u001b[49m\u001b[43m)\u001b[49m\n\u001b[0;32m    196\u001b[0m \u001b[38;5;28;01mfor\u001b[39;00m key \u001b[38;5;129;01min\u001b[39;00m kws:\n\u001b[0;32m    197\u001b[0m     value \u001b[38;5;241m=\u001b[39m kws[key]\n",
      "File \u001b[1;32m~\\AppData\\Local\\Programs\\Python\\Python310\\lib\\site-packages\\z3\\z3core.py:1613\u001b[0m, in \u001b[0;36mZ3_mk_config\u001b[1;34m(_elems)\u001b[0m\n\u001b[0;32m   1612\u001b[0m \u001b[38;5;28;01mdef\u001b[39;00m \u001b[38;5;21mZ3_mk_config\u001b[39m(_elems\u001b[38;5;241m=\u001b[39mElementaries(_lib\u001b[38;5;241m.\u001b[39mZ3_mk_config)):\n\u001b[1;32m-> 1613\u001b[0m   r \u001b[38;5;241m=\u001b[39m \u001b[43m_elems\u001b[49m\u001b[38;5;241;43m.\u001b[39;49m\u001b[43mf\u001b[49m\u001b[43m(\u001b[49m\u001b[43m)\u001b[49m\n\u001b[0;32m   1614\u001b[0m   \u001b[38;5;28;01mreturn\u001b[39;00m r\n",
      "\u001b[1;31mOSError\u001b[0m: exception: access violation reading 0x0000000000000000"
     ]
    }
   ],
   "source": [
    "x = Real('x')\n",
    "y = Real('y')\n",
    "s = Solver()\n",
    "s.add(x + y > 5, x > 1, y > 1)\n",
    "print(s.check())\n",
    "print(s.model())"
   ]
  },
  {
   "cell_type": "code",
   "execution_count": null,
   "id": "6d80efd7",
   "metadata": {},
   "outputs": [],
   "source": []
  }
 ],
 "metadata": {
  "kernelspec": {
   "display_name": "Python 3 (ipykernel)",
   "language": "python",
   "name": "python3"
  },
  "language_info": {
   "codemirror_mode": {
    "name": "ipython",
    "version": 3
   },
   "file_extension": ".py",
   "mimetype": "text/x-python",
   "name": "python",
   "nbconvert_exporter": "python",
   "pygments_lexer": "ipython3",
   "version": "3.10.4"
  }
 },
 "nbformat": 4,
 "nbformat_minor": 5
}
